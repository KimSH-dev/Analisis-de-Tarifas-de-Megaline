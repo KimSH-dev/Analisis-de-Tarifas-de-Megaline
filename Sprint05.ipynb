{
 "cells": [
  {
   "cell_type": "markdown",
   "metadata": {
    "id": "3rYiDeEH0q0f"
   },
   "source": [
    "# ¿Cuál es la mejor tarifa?\n",
    "\n",
    "Trabajas como analista para el operador de telecomunicaciones Megaline. La empresa ofrece a sus clientes dos tarifas de prepago, Surf y Ultimate. El departamento comercial quiere saber cuál de las tarifas genera más ingresos para poder ajustar el presupuesto de publicidad.\n",
    "\n",
    "Vas a realizar un análisis preliminar de las tarifas basado en una selección de clientes relativamente pequeña. Tendrás los datos de 500 clientes de Megaline: quiénes son los clientes, de dónde son, qué tarifa usan, así como la cantidad de llamadas que hicieron y los mensajes de texto que enviaron en 2018. Tu trabajo es analizar el comportamiento de los clientes y determinar qué tarifa de prepago genera más ingresos."
   ]
  },
  {
   "cell_type": "markdown",
   "metadata": {
    "id": "MQi4IPy70q0y"
   },
   "source": [
    "## Inicialización"
   ]
  },
  {
   "cell_type": "code",
   "execution_count": 3,
   "metadata": {
    "id": "MtYIuBxu0q0z"
   },
   "outputs": [],
   "source": [
    "# Cargar todas las librerías\n",
    "import pandas as pd\n",
    "import numpy as np\n",
    "from scipy import stats as st\n",
    "import math as mt\n",
    "from matplotlib import pyplot as plt"
   ]
  },
  {
   "cell_type": "markdown",
   "metadata": {
    "id": "4ysWWC5i0q00"
   },
   "source": [
    "## Cargar datos"
   ]
  },
  {
   "cell_type": "code",
   "execution_count": 4,
   "metadata": {
    "id": "CCqPW7rS0q01"
   },
   "outputs": [],
   "source": [
    "# Carga los archivos de datos en diferentes DataFrames\n",
    "df1_users=pd.read_csv('/datasets/megaline_users.csv')\n",
    "df2_calls=pd.read_csv('/datasets/megaline_calls.csv')\n",
    "df3_messages=pd.read_csv('/datasets/megaline_messages.csv')\n",
    "df4_internet=pd.read_csv('/datasets/megaline_internet.csv')\n",
    "df5_plans=pd.read_csv('/datasets/megaline_plans.csv')"
   ]
  },
  {
   "cell_type": "markdown",
   "metadata": {
    "id": "69qqoJ3r0q01"
   },
   "source": [
    "## Preparar los datos"
   ]
  },
  {
   "cell_type": "code",
   "execution_count": 5,
   "metadata": {
    "id": "GptqP3Q40q02"
   },
   "outputs": [
    {
     "name": "stdout",
     "output_type": "stream",
     "text": [
      "<class 'pandas.core.frame.DataFrame'>\n",
      "RangeIndex: 500 entries, 0 to 499\n",
      "Data columns (total 8 columns):\n",
      " #   Column      Non-Null Count  Dtype \n",
      "---  ------      --------------  ----- \n",
      " 0   user_id     500 non-null    int64 \n",
      " 1   first_name  500 non-null    object\n",
      " 2   last_name   500 non-null    object\n",
      " 3   age         500 non-null    int64 \n",
      " 4   city        500 non-null    object\n",
      " 5   reg_date    500 non-null    object\n",
      " 6   plan        500 non-null    object\n",
      " 7   churn_date  34 non-null     object\n",
      "dtypes: int64(2), object(6)\n",
      "memory usage: 31.4+ KB\n",
      "<class 'pandas.core.frame.DataFrame'>\n",
      "RangeIndex: 137735 entries, 0 to 137734\n",
      "Data columns (total 4 columns):\n",
      " #   Column     Non-Null Count   Dtype  \n",
      "---  ------     --------------   -----  \n",
      " 0   id         137735 non-null  object \n",
      " 1   user_id    137735 non-null  int64  \n",
      " 2   call_date  137735 non-null  object \n",
      " 3   duration   137735 non-null  float64\n",
      "dtypes: float64(1), int64(1), object(2)\n",
      "memory usage: 4.2+ MB\n",
      "<class 'pandas.core.frame.DataFrame'>\n",
      "RangeIndex: 76051 entries, 0 to 76050\n",
      "Data columns (total 3 columns):\n",
      " #   Column        Non-Null Count  Dtype \n",
      "---  ------        --------------  ----- \n",
      " 0   id            76051 non-null  object\n",
      " 1   user_id       76051 non-null  int64 \n",
      " 2   message_date  76051 non-null  object\n",
      "dtypes: int64(1), object(2)\n",
      "memory usage: 1.7+ MB\n",
      "<class 'pandas.core.frame.DataFrame'>\n",
      "RangeIndex: 104825 entries, 0 to 104824\n",
      "Data columns (total 4 columns):\n",
      " #   Column        Non-Null Count   Dtype  \n",
      "---  ------        --------------   -----  \n",
      " 0   id            104825 non-null  object \n",
      " 1   user_id       104825 non-null  int64  \n",
      " 2   session_date  104825 non-null  object \n",
      " 3   mb_used       104825 non-null  float64\n",
      "dtypes: float64(1), int64(1), object(2)\n",
      "memory usage: 3.2+ MB\n",
      "<class 'pandas.core.frame.DataFrame'>\n",
      "RangeIndex: 2 entries, 0 to 1\n",
      "Data columns (total 8 columns):\n",
      " #   Column                 Non-Null Count  Dtype  \n",
      "---  ------                 --------------  -----  \n",
      " 0   messages_included      2 non-null      int64  \n",
      " 1   mb_per_month_included  2 non-null      int64  \n",
      " 2   minutes_included       2 non-null      int64  \n",
      " 3   usd_monthly_pay        2 non-null      int64  \n",
      " 4   usd_per_gb             2 non-null      int64  \n",
      " 5   usd_per_message        2 non-null      float64\n",
      " 6   usd_per_minute         2 non-null      float64\n",
      " 7   plan_name              2 non-null      object \n",
      "dtypes: float64(2), int64(5), object(1)\n",
      "memory usage: 256.0+ bytes\n"
     ]
    }
   ],
   "source": [
    "df1_users.info(show_counts=True)\n",
    "df2_calls.info(show_counts=True)\n",
    "df3_messages.info(show_counts=True)\n",
    "df4_internet.info(show_counts=True)\n",
    "df5_plans.info(show_counts=True)"
   ]
  },
  {
   "cell_type": "markdown",
   "metadata": {
    "id": "mEc_3_hs0q02"
   },
   "source": [
    "Observe las 5 tablas que vamos a usar en este proyecto de las cuales se vio que solo la primera tabla tiene valores ausentes ademas que hay columnas en algunas tablas que contienen datos con respecto a fechas. Seguire observando en el avance del proyecto sobre si el tipo de datos debe ser cambiado."
   ]
  },
  {
   "cell_type": "markdown",
   "metadata": {
    "id": "ohBhimvH0q01"
   },
   "source": [
    "## Tarifas"
   ]
  },
  {
   "cell_type": "code",
   "execution_count": 6,
   "metadata": {
    "id": "GptqP3Q40q02"
   },
   "outputs": [
    {
     "name": "stdout",
     "output_type": "stream",
     "text": [
      "<class 'pandas.core.frame.DataFrame'>\n",
      "RangeIndex: 2 entries, 0 to 1\n",
      "Data columns (total 8 columns):\n",
      " #   Column                 Non-Null Count  Dtype  \n",
      "---  ------                 --------------  -----  \n",
      " 0   messages_included      2 non-null      int64  \n",
      " 1   mb_per_month_included  2 non-null      int64  \n",
      " 2   minutes_included       2 non-null      int64  \n",
      " 3   usd_monthly_pay        2 non-null      int64  \n",
      " 4   usd_per_gb             2 non-null      int64  \n",
      " 5   usd_per_message        2 non-null      float64\n",
      " 6   usd_per_minute         2 non-null      float64\n",
      " 7   plan_name              2 non-null      object \n",
      "dtypes: float64(2), int64(5), object(1)\n",
      "memory usage: 256.0+ bytes\n"
     ]
    }
   ],
   "source": [
    "# Imprime la información general/resumida sobre el DataFrame de las tarifas\n",
    "df5_plans.info(show_counts=True)"
   ]
  },
  {
   "cell_type": "code",
   "execution_count": 7,
   "metadata": {
    "id": "64xzjwL70q02"
   },
   "outputs": [
    {
     "name": "stdout",
     "output_type": "stream",
     "text": [
      "   messages_included  mb_per_month_included  minutes_included  \\\n",
      "0                 50                  15360               500   \n",
      "1               1000                  30720              3000   \n",
      "\n",
      "   usd_monthly_pay  usd_per_gb  usd_per_message  usd_per_minute plan_name  \n",
      "0               20          10             0.03            0.03      surf  \n",
      "1               70           7             0.01            0.01  ultimate  \n"
     ]
    }
   ],
   "source": [
    "# Imprime una muestra de los datos para las tarifas\n",
    "print(df5_plans)"
   ]
  },
  {
   "cell_type": "markdown",
   "metadata": {
    "id": "mEc_3_hs0q02"
   },
   "source": [
    "Se pudo observar el detalle de cada plan asi como sus precios; no tiene datos ausentes  pero si podriamos hacer el cambio al tipo de datos de las columnas que involucran pagos a precios a float"
   ]
  },
  {
   "cell_type": "markdown",
   "metadata": {
    "collapsed": false,
    "id": "R3C05i1l0q03",
    "jupyter": {
     "outputs_hidden": false
    }
   },
   "source": [
    "### Corregir datos"
   ]
  },
  {
   "cell_type": "code",
   "execution_count": 8,
   "metadata": {
    "id": "Y7SVmjGn0q03"
   },
   "outputs": [
    {
     "name": "stdout",
     "output_type": "stream",
     "text": [
      "<class 'pandas.core.frame.DataFrame'>\n",
      "RangeIndex: 2 entries, 0 to 1\n",
      "Data columns (total 8 columns):\n",
      " #   Column                 Non-Null Count  Dtype  \n",
      "---  ------                 --------------  -----  \n",
      " 0   messages_included      2 non-null      int64  \n",
      " 1   mb_per_month_included  2 non-null      int64  \n",
      " 2   minutes_included       2 non-null      int64  \n",
      " 3   usd_monthly_pay        2 non-null      float64\n",
      " 4   usd_per_gb             2 non-null      float64\n",
      " 5   usd_per_message        2 non-null      float64\n",
      " 6   usd_per_minute         2 non-null      float64\n",
      " 7   plan_name              2 non-null      object \n",
      "dtypes: float64(4), int64(3), object(1)\n",
      "memory usage: 256.0+ bytes\n"
     ]
    }
   ],
   "source": [
    "df5_plans['usd_monthly_pay']=df5_plans['usd_monthly_pay'].astype('float')\n",
    "df5_plans['usd_per_gb']=df5_plans['usd_per_gb'].astype('float')\n",
    "df5_plans.info(show_counts=True)"
   ]
  },
  {
   "cell_type": "markdown",
   "metadata": {
    "id": "LJir7bml0q03"
   },
   "source": [
    "### Enriquecer los datos"
   ]
  },
  {
   "cell_type": "code",
   "execution_count": 9,
   "metadata": {
    "id": "gfcIEuXV0q04"
   },
   "outputs": [
    {
     "name": "stdout",
     "output_type": "stream",
     "text": [
      "0\n"
     ]
    }
   ],
   "source": [
    "print(df5_plans.duplicated().sum())"
   ]
  },
  {
   "cell_type": "markdown",
   "metadata": {
    "id": "1n2X6WXf0q04"
   },
   "source": [
    "## Usuarios/as"
   ]
  },
  {
   "cell_type": "code",
   "execution_count": 10,
   "metadata": {
    "id": "2NgjWFqx0q05"
   },
   "outputs": [
    {
     "name": "stdout",
     "output_type": "stream",
     "text": [
      "<class 'pandas.core.frame.DataFrame'>\n",
      "RangeIndex: 500 entries, 0 to 499\n",
      "Data columns (total 8 columns):\n",
      " #   Column      Non-Null Count  Dtype \n",
      "---  ------      --------------  ----- \n",
      " 0   user_id     500 non-null    int64 \n",
      " 1   first_name  500 non-null    object\n",
      " 2   last_name   500 non-null    object\n",
      " 3   age         500 non-null    int64 \n",
      " 4   city        500 non-null    object\n",
      " 5   reg_date    500 non-null    object\n",
      " 6   plan        500 non-null    object\n",
      " 7   churn_date  34 non-null     object\n",
      "dtypes: int64(2), object(6)\n",
      "memory usage: 31.4+ KB\n"
     ]
    }
   ],
   "source": [
    "# Imprime la información general/resumida sobre el DataFrame de usuarios\n",
    "df1_users.info(show_counts=True)"
   ]
  },
  {
   "cell_type": "code",
   "execution_count": 11,
   "metadata": {
    "id": "1IN1L9uh0q05"
   },
   "outputs": [
    {
     "name": "stdout",
     "output_type": "stream",
     "text": [
      "   user_id first_name  last_name  age                                   city  \\\n",
      "0     1000   Anamaria      Bauer   45  Atlanta-Sandy Springs-Roswell, GA MSA   \n",
      "1     1001     Mickey  Wilkerson   28        Seattle-Tacoma-Bellevue, WA MSA   \n",
      "2     1002     Carlee    Hoffman   36   Las Vegas-Henderson-Paradise, NV MSA   \n",
      "3     1003   Reynaldo    Jenkins   52                          Tulsa, OK MSA   \n",
      "4     1004    Leonila   Thompson   40        Seattle-Tacoma-Bellevue, WA MSA   \n",
      "\n",
      "     reg_date      plan churn_date  \n",
      "0  2018-12-24  ultimate        NaN  \n",
      "1  2018-08-13      surf        NaN  \n",
      "2  2018-10-21      surf        NaN  \n",
      "3  2018-01-28      surf        NaN  \n",
      "4  2018-05-23      surf        NaN  \n",
      "           user_id         age\n",
      "count   500.000000  500.000000\n",
      "mean   1249.500000   45.486000\n",
      "std     144.481833   16.972269\n",
      "min    1000.000000   18.000000\n",
      "25%    1124.750000   30.000000\n",
      "50%    1249.500000   46.000000\n",
      "75%    1374.250000   61.000000\n",
      "max    1499.000000   75.000000\n"
     ]
    }
   ],
   "source": [
    "# Imprime una muestra de datos para usuarios\n",
    "print(df1_users.head())\n",
    "print(df1_users.describe())"
   ]
  },
  {
   "cell_type": "markdown",
   "metadata": {
    "id": "dCZoUq4f0q06"
   },
   "source": [
    "Se observo que hay datos ausentes en la columna \"churn_date\" lo cual es correcto ya que esa columna recibe datos uno vez que el usuario deje de usar el servicio. Ademas se observo que hay columnas que muestras fechas las cuales no tiene como tipo date, para esto se realizara el cambio de tipo de dato a date. el user_id es tipo int lo cual lo cambiare ya que al ser un id no requeriremos hacer operaciones con el por lo cual lo cambiare a uno de tipo object.\n",
    "Al usar el metodo describe() se puede observar los diferentes calculos matematicos que se puede hacer sobre los valores de edad; consideramos que tenemos 500 clientes, asi como la edad maxima entre ellos es de 75 y entre otros datos."
   ]
  },
  {
   "cell_type": "markdown",
   "metadata": {
    "id": "BX5FQh_I0q06"
   },
   "source": [
    "### Corregir los datos"
   ]
  },
  {
   "cell_type": "code",
   "execution_count": 12,
   "metadata": {
    "id": "yUqX-K0C0q07"
   },
   "outputs": [
    {
     "name": "stdout",
     "output_type": "stream",
     "text": [
      "<class 'pandas.core.frame.DataFrame'>\n",
      "RangeIndex: 500 entries, 0 to 499\n",
      "Data columns (total 8 columns):\n",
      " #   Column      Non-Null Count  Dtype         \n",
      "---  ------      --------------  -----         \n",
      " 0   user_id     500 non-null    object        \n",
      " 1   first_name  500 non-null    object        \n",
      " 2   last_name   500 non-null    object        \n",
      " 3   age         500 non-null    int64         \n",
      " 4   city        500 non-null    object        \n",
      " 5   reg_date    500 non-null    datetime64[ns]\n",
      " 6   plan        500 non-null    object        \n",
      " 7   churn_date  34 non-null     datetime64[ns]\n",
      "dtypes: datetime64[ns](2), int64(1), object(5)\n",
      "memory usage: 31.4+ KB\n"
     ]
    }
   ],
   "source": [
    "df1_users['user_id'] = df1_users['user_id'].astype('object')\n",
    "df1_users['reg_date'] = pd.to_datetime(df1_users['reg_date'], format='%Y-%m-%d')\n",
    "df1_users['churn_date'] = pd.to_datetime(df1_users['churn_date'], format='%Y-%m-%d')\n",
    "df1_users.info(show_counts=True)"
   ]
  },
  {
   "cell_type": "markdown",
   "metadata": {
    "id": "ycwuARJp0q07"
   },
   "source": [
    "### Enriquecer los datos"
   ]
  },
  {
   "cell_type": "code",
   "execution_count": 13,
   "metadata": {
    "id": "iq0AaBS90q08"
   },
   "outputs": [
    {
     "name": "stdout",
     "output_type": "stream",
     "text": [
      "0\n"
     ]
    }
   ],
   "source": [
    "print(df1_users.duplicated().sum())"
   ]
  },
  {
   "cell_type": "markdown",
   "metadata": {
    "id": "o7MeKCid0q08"
   },
   "source": [
    "## Llamadas"
   ]
  },
  {
   "cell_type": "code",
   "execution_count": 14,
   "metadata": {
    "id": "6dDlnoDm0q08"
   },
   "outputs": [
    {
     "name": "stdout",
     "output_type": "stream",
     "text": [
      "<class 'pandas.core.frame.DataFrame'>\n",
      "RangeIndex: 137735 entries, 0 to 137734\n",
      "Data columns (total 4 columns):\n",
      " #   Column     Non-Null Count   Dtype  \n",
      "---  ------     --------------   -----  \n",
      " 0   id         137735 non-null  object \n",
      " 1   user_id    137735 non-null  int64  \n",
      " 2   call_date  137735 non-null  object \n",
      " 3   duration   137735 non-null  float64\n",
      "dtypes: float64(1), int64(1), object(2)\n",
      "memory usage: 4.2+ MB\n"
     ]
    }
   ],
   "source": [
    "# Imprime la información general/resumida sobre el DataFrame de las llamadas\n",
    "df2_calls.info(show_counts=True)"
   ]
  },
  {
   "cell_type": "code",
   "execution_count": 15,
   "metadata": {
    "id": "kuh1vlNB0q09"
   },
   "outputs": [
    {
     "name": "stdout",
     "output_type": "stream",
     "text": [
      "         id  user_id   call_date  duration\n",
      "0   1000_93     1000  2018-12-27      8.52\n",
      "1  1000_145     1000  2018-12-27     13.66\n",
      "2  1000_247     1000  2018-12-27     14.48\n",
      "3  1000_309     1000  2018-12-28      5.76\n",
      "4  1000_380     1000  2018-12-30      4.22\n",
      "             user_id       duration\n",
      "count  137735.000000  137735.000000\n",
      "mean     1247.658046       6.745927\n",
      "std       139.416268       5.839241\n",
      "min      1000.000000       0.000000\n",
      "25%      1128.000000       1.290000\n",
      "50%      1247.000000       5.980000\n",
      "75%      1365.000000      10.690000\n",
      "max      1499.000000      37.600000\n"
     ]
    }
   ],
   "source": [
    "# Imprime una muestra de datos para las llamadas\n",
    "print(df2_calls.head())\n",
    "print(df2_calls.describe())"
   ]
  },
  {
   "cell_type": "markdown",
   "metadata": {
    "id": "DOAxYJSx0q09"
   },
   "source": [
    "El tipo de dato en la columna \"user_id\" se cambiara a tipo object y la columna \"call_date\" al se una columna que almacena datos de fechas sera cambiada a tipo date.\n",
    "Al usar el metodo describe() se puede observar los diferentes calculos matematicos que se puede hacer sobre los valores de duracion de llamada; consideramos que tenemos 500 clientes, asi como la llamada con el maximo tiempo es de casi 38 minutos, etc"
   ]
  },
  {
   "cell_type": "markdown",
   "metadata": {
    "id": "S7hzxmbX0q0-"
   },
   "source": [
    "### Corregir los datos"
   ]
  },
  {
   "cell_type": "code",
   "execution_count": 16,
   "metadata": {
    "id": "S2r8xA4f0q0-"
   },
   "outputs": [
    {
     "name": "stdout",
     "output_type": "stream",
     "text": [
      "<class 'pandas.core.frame.DataFrame'>\n",
      "RangeIndex: 137735 entries, 0 to 137734\n",
      "Data columns (total 4 columns):\n",
      " #   Column     Non-Null Count   Dtype         \n",
      "---  ------     --------------   -----         \n",
      " 0   id         137735 non-null  object        \n",
      " 1   user_id    137735 non-null  object        \n",
      " 2   call_date  137735 non-null  datetime64[ns]\n",
      " 3   duration   137735 non-null  float64       \n",
      "dtypes: datetime64[ns](1), float64(1), object(2)\n",
      "memory usage: 4.2+ MB\n"
     ]
    }
   ],
   "source": [
    "df2_calls['user_id'] = df2_calls['user_id'].astype('object')\n",
    "df2_calls['call_date'] = pd.to_datetime(df2_calls['call_date'], format='%Y-%m-%d')\n",
    "df2_calls.info(show_counts=True)"
   ]
  },
  {
   "cell_type": "markdown",
   "metadata": {
    "id": "KrMgTrlG0q0_"
   },
   "source": [
    "### Enriquecer los datos"
   ]
  },
  {
   "cell_type": "code",
   "execution_count": 17,
   "metadata": {
    "id": "iZ1avpA_0q0_"
   },
   "outputs": [
    {
     "name": "stdout",
     "output_type": "stream",
     "text": [
      "0\n"
     ]
    }
   ],
   "source": [
    "df2_calls['call_month'] = df2_calls['call_date'].dt.to_period('M')\n",
    "print(df2_calls.duplicated().sum())"
   ]
  },
  {
   "cell_type": "markdown",
   "metadata": {
    "id": "mOUZSi180q0_"
   },
   "source": [
    "## Mensajes"
   ]
  },
  {
   "cell_type": "code",
   "execution_count": 18,
   "metadata": {
    "id": "R-bYJpdV0q1A"
   },
   "outputs": [
    {
     "name": "stdout",
     "output_type": "stream",
     "text": [
      "<class 'pandas.core.frame.DataFrame'>\n",
      "RangeIndex: 76051 entries, 0 to 76050\n",
      "Data columns (total 3 columns):\n",
      " #   Column        Non-Null Count  Dtype \n",
      "---  ------        --------------  ----- \n",
      " 0   id            76051 non-null  object\n",
      " 1   user_id       76051 non-null  int64 \n",
      " 2   message_date  76051 non-null  object\n",
      "dtypes: int64(1), object(2)\n",
      "memory usage: 1.7+ MB\n"
     ]
    }
   ],
   "source": [
    "# Imprime la información general/resumida sobre el DataFrame de los mensajes\n",
    "df3_messages.info(show_counts=True)"
   ]
  },
  {
   "cell_type": "code",
   "execution_count": 19,
   "metadata": {
    "id": "mCEl2iGE0q1A"
   },
   "outputs": [
    {
     "name": "stdout",
     "output_type": "stream",
     "text": [
      "         id  user_id message_date\n",
      "0  1000_125     1000   2018-12-27\n",
      "1  1000_160     1000   2018-12-31\n",
      "2  1000_223     1000   2018-12-31\n",
      "3  1000_251     1000   2018-12-27\n",
      "4  1000_255     1000   2018-12-26\n"
     ]
    }
   ],
   "source": [
    "# Imprime una muestra de datos para los mensajes\n",
    "print(df3_messages.head())"
   ]
  },
  {
   "cell_type": "markdown",
   "metadata": {
    "id": "04xDj7KH0q1A"
   },
   "source": [
    "Se observo que tenemos una columna \"message_date\" que contiene datos de tipo fecha por lo cual lo cambiaremos a tipo date y \"user_id\" lo cambiaremos a tipo object y al final se validara si rtenemos duplicidad de datos."
   ]
  },
  {
   "cell_type": "markdown",
   "metadata": {
    "id": "Sprfak900q1B"
   },
   "source": [
    "### Corregir los datos"
   ]
  },
  {
   "cell_type": "code",
   "execution_count": 20,
   "metadata": {
    "id": "vsllvkoa0q1B"
   },
   "outputs": [
    {
     "name": "stdout",
     "output_type": "stream",
     "text": [
      "<class 'pandas.core.frame.DataFrame'>\n",
      "RangeIndex: 76051 entries, 0 to 76050\n",
      "Data columns (total 3 columns):\n",
      " #   Column        Non-Null Count  Dtype         \n",
      "---  ------        --------------  -----         \n",
      " 0   id            76051 non-null  object        \n",
      " 1   user_id       76051 non-null  object        \n",
      " 2   message_date  76051 non-null  datetime64[ns]\n",
      "dtypes: datetime64[ns](1), object(2)\n",
      "memory usage: 1.7+ MB\n"
     ]
    }
   ],
   "source": [
    "df3_messages['user_id'] = df3_messages['user_id'].astype('object')\n",
    "df3_messages['message_date'] = pd.to_datetime(df3_messages['message_date'], format='%Y-%m-%d')\n",
    "df3_messages.info(show_counts=True)"
   ]
  },
  {
   "cell_type": "markdown",
   "metadata": {
    "id": "HvLid7iD0q1B"
   },
   "source": [
    "### Enriquecer los datos"
   ]
  },
  {
   "cell_type": "code",
   "execution_count": 21,
   "metadata": {
    "id": "zYEXZac10q1C"
   },
   "outputs": [
    {
     "name": "stdout",
     "output_type": "stream",
     "text": [
      "0\n"
     ]
    }
   ],
   "source": [
    "df3_messages['message_month'] = df3_messages['message_date'].dt.to_period('M')\n",
    "print(df3_messages.duplicated().sum())"
   ]
  },
  {
   "cell_type": "markdown",
   "metadata": {
    "id": "bStkaxn40q1C"
   },
   "source": [
    "## Internet"
   ]
  },
  {
   "cell_type": "code",
   "execution_count": 22,
   "metadata": {
    "id": "e-Uz5qyn0q1C"
   },
   "outputs": [
    {
     "name": "stdout",
     "output_type": "stream",
     "text": [
      "<class 'pandas.core.frame.DataFrame'>\n",
      "RangeIndex: 104825 entries, 0 to 104824\n",
      "Data columns (total 4 columns):\n",
      " #   Column        Non-Null Count   Dtype  \n",
      "---  ------        --------------   -----  \n",
      " 0   id            104825 non-null  object \n",
      " 1   user_id       104825 non-null  int64  \n",
      " 2   session_date  104825 non-null  object \n",
      " 3   mb_used       104825 non-null  float64\n",
      "dtypes: float64(1), int64(1), object(2)\n",
      "memory usage: 3.2+ MB\n"
     ]
    }
   ],
   "source": [
    "# Imprime la información general/resumida sobre el DataFrame de internet\n",
    "df4_internet.info(show_counts=True)"
   ]
  },
  {
   "cell_type": "code",
   "execution_count": 23,
   "metadata": {
    "id": "9r3x_XLw0q1C"
   },
   "outputs": [
    {
     "name": "stdout",
     "output_type": "stream",
     "text": [
      "         id  user_id session_date  mb_used\n",
      "0   1000_13     1000   2018-12-29    89.86\n",
      "1  1000_204     1000   2018-12-31     0.00\n",
      "2  1000_379     1000   2018-12-28   660.40\n",
      "3  1000_413     1000   2018-12-26   270.99\n",
      "4  1000_442     1000   2018-12-27   880.22\n",
      "             user_id        mb_used\n",
      "count  104825.000000  104825.000000\n",
      "mean     1242.496361     366.713701\n",
      "std       142.053913     277.170542\n",
      "min      1000.000000       0.000000\n",
      "25%      1122.000000     136.080000\n",
      "50%      1236.000000     343.980000\n",
      "75%      1367.000000     554.610000\n",
      "max      1499.000000    1693.470000\n"
     ]
    }
   ],
   "source": [
    "# Imprime una muestra de datos para el tráfico de internet\n",
    "print(df4_internet.head())\n",
    "print(df4_internet.describe())"
   ]
  },
  {
   "cell_type": "markdown",
   "metadata": {
    "id": "EzOG5ik30q1D"
   },
   "source": [
    "Se verifico que tenemos datos de tipo fecha en la columna session_date que son de tipo object por lo cual estos seran cambiados a tipo date. Usando el metodo describe() pudimos identificar datos sobre el total de mb consumidos por todos los clientes asi como cual fue el consumo mayor realizado"
   ]
  },
  {
   "cell_type": "markdown",
   "metadata": {
    "id": "yA0tkPFg0q1D"
   },
   "source": [
    "### Corregir los datos"
   ]
  },
  {
   "cell_type": "code",
   "execution_count": 24,
   "metadata": {
    "id": "zVeanzdd0q1E"
   },
   "outputs": [
    {
     "name": "stdout",
     "output_type": "stream",
     "text": [
      "<class 'pandas.core.frame.DataFrame'>\n",
      "RangeIndex: 104825 entries, 0 to 104824\n",
      "Data columns (total 4 columns):\n",
      " #   Column        Non-Null Count   Dtype         \n",
      "---  ------        --------------   -----         \n",
      " 0   id            104825 non-null  object        \n",
      " 1   user_id       104825 non-null  object        \n",
      " 2   session_date  104825 non-null  datetime64[ns]\n",
      " 3   mb_used       104825 non-null  float64       \n",
      "dtypes: datetime64[ns](1), float64(1), object(2)\n",
      "memory usage: 3.2+ MB\n"
     ]
    }
   ],
   "source": [
    "df4_internet['user_id'] = df4_internet['user_id'].astype('object')\n",
    "df4_internet['session_date'] = pd.to_datetime(df4_internet['session_date'], format='%Y-%m-%d')\n",
    "df4_internet.info(show_counts=True)"
   ]
  },
  {
   "cell_type": "markdown",
   "metadata": {
    "id": "e8_mLF4a0q1E"
   },
   "source": [
    "### Enriquecer los datos"
   ]
  },
  {
   "cell_type": "code",
   "execution_count": 25,
   "metadata": {
    "id": "ESiYPIEK0q1E"
   },
   "outputs": [
    {
     "name": "stdout",
     "output_type": "stream",
     "text": [
      "0\n"
     ]
    }
   ],
   "source": [
    "df4_internet['session_month'] = df4_internet['session_date'].dt.to_period('M')\n",
    "print(df4_internet.duplicated().sum())"
   ]
  },
  {
   "cell_type": "markdown",
   "metadata": {
    "id": "3UA2cqIW0q1E"
   },
   "source": [
    "## Estudiar las condiciones de las tarifas"
   ]
  },
  {
   "cell_type": "code",
   "execution_count": 26,
   "metadata": {
    "id": "i409op8p0q1F"
   },
   "outputs": [
    {
     "name": "stdout",
     "output_type": "stream",
     "text": [
      "   messages_included  mb_per_month_included  minutes_included  \\\n",
      "0                 50                  15360               500   \n",
      "1               1000                  30720              3000   \n",
      "\n",
      "   usd_monthly_pay  usd_per_gb  usd_per_message  usd_per_minute plan_name  \n",
      "0             20.0        10.0             0.03            0.03      surf  \n",
      "1             70.0         7.0             0.01            0.01  ultimate  \n"
     ]
    }
   ],
   "source": [
    "# Imprime las condiciones de la tarifa y asegúrate de que te quedan claras\n",
    "print(df5_plans)"
   ]
  },
  {
   "cell_type": "markdown",
   "metadata": {
    "id": "hMR1tP5d0q1F"
   },
   "source": [
    "## Agregar datos por usuario"
   ]
  },
  {
   "cell_type": "code",
   "execution_count": 27,
   "metadata": {
    "id": "A332cedB0q1G"
   },
   "outputs": [
    {
     "name": "stdout",
     "output_type": "stream",
     "text": [
      "      user_id call_month  count_call\n",
      "0        1000    2018-12          16\n",
      "1        1001    2018-08          27\n",
      "2        1001    2018-09          49\n",
      "3        1001    2018-10          65\n",
      "4        1001    2018-11          64\n",
      "...       ...        ...         ...\n",
      "2253     1498    2018-12          39\n",
      "2254     1499    2018-09          41\n",
      "2255     1499    2018-10          53\n",
      "2256     1499    2018-11          45\n",
      "2257     1499    2018-12          65\n",
      "\n",
      "[2258 rows x 3 columns]\n"
     ]
    }
   ],
   "source": [
    "# Calcula el número de llamadas hechas por cada usuario al mes. Guarda el resultado.\n",
    "#df2_calls['call_month'] = df2_calls['call_date'].dt.to_period('M')\n",
    "call_user_month = df2_calls.groupby(['user_id','call_month']).size().reset_index(name='count_call')\n",
    "#print(df2_calls)\n",
    "print(call_user_month)"
   ]
  },
  {
   "cell_type": "code",
   "execution_count": 28,
   "metadata": {
    "id": "aw2cmuql0q1G"
   },
   "outputs": [
    {
     "name": "stdout",
     "output_type": "stream",
     "text": [
      "      user_id call_month  total_minutes\n",
      "0        1000    2018-12         116.83\n",
      "1        1001    2018-08         171.14\n",
      "2        1001    2018-09         297.69\n",
      "3        1001    2018-10         374.11\n",
      "4        1001    2018-11         404.59\n",
      "...       ...        ...            ...\n",
      "2253     1498    2018-12         324.77\n",
      "2254     1499    2018-09         330.37\n",
      "2255     1499    2018-10         363.28\n",
      "2256     1499    2018-11         288.56\n",
      "2257     1499    2018-12         468.10\n",
      "\n",
      "[2258 rows x 3 columns]\n"
     ]
    }
   ],
   "source": [
    "# Calcula la cantidad de minutos usados por cada usuario al mes. Guarda el resultado.\n",
    "call_user_minute = df2_calls.groupby(['user_id','call_month'])['duration'].sum().reset_index(name='total_minutes')\n",
    "#print(df2_calls)\n",
    "print(call_user_minute)"
   ]
  },
  {
   "cell_type": "code",
   "execution_count": 29,
   "metadata": {
    "id": "CcQvNHn60q1G"
   },
   "outputs": [
    {
     "name": "stdout",
     "output_type": "stream",
     "text": [
      "      user_id message_month  number_message\n",
      "0        1000       2018-12              11\n",
      "1        1001       2018-08              30\n",
      "2        1001       2018-09              44\n",
      "3        1001       2018-10              53\n",
      "4        1001       2018-11              36\n",
      "...       ...           ...             ...\n",
      "1801     1496       2018-09              21\n",
      "1802     1496       2018-10              18\n",
      "1803     1496       2018-11              13\n",
      "1804     1496       2018-12              11\n",
      "1805     1497       2018-12              50\n",
      "\n",
      "[1806 rows x 3 columns]\n"
     ]
    }
   ],
   "source": [
    "# Calcula el número de mensajes enviados por cada usuario al mes. Guarda el resultado.\n",
    "#df3_messages['message_month'] = df3_messages['message_date'].dt.to_period('M')\n",
    "message_user_month = df3_messages.groupby(['user_id','message_month']).size().reset_index(name='number_message')\n",
    "#print(df3_messages)\n",
    "print(message_user_month)"
   ]
  },
  {
   "cell_type": "code",
   "execution_count": 38,
   "metadata": {
    "id": "H1AqN2eG0q1H"
   },
   "outputs": [
    {
     "name": "stdout",
     "output_type": "stream",
     "text": [
      "      user_id session_month  volum_trafic_internet  volum_trafic_internet_GB  \\\n",
      "0        1000       2018-12                1901.47                  1.856904   \n",
      "1        1001       2018-08                6919.15                  6.756982   \n",
      "2        1001       2018-09               13314.82                 13.002754   \n",
      "3        1001       2018-10               22330.49                 21.807119   \n",
      "4        1001       2018-11               18504.30                 18.070605   \n",
      "...       ...           ...                    ...                       ...   \n",
      "2272     1498       2018-12               23137.69                 22.595400   \n",
      "2273     1499       2018-09               12984.76                 12.680430   \n",
      "2274     1499       2018-10               19492.43                 19.035576   \n",
      "2275     1499       2018-11               16813.83                 16.419756   \n",
      "2276     1499       2018-12               22059.21                 21.542197   \n",
      "\n",
      "      volum_trafic_internet_GB_redondeo  \n",
      "0                                     2  \n",
      "1                                     7  \n",
      "2                                    14  \n",
      "3                                    22  \n",
      "4                                    19  \n",
      "...                                 ...  \n",
      "2272                                 23  \n",
      "2273                                 13  \n",
      "2274                                 20  \n",
      "2275                                 17  \n",
      "2276                                 22  \n",
      "\n",
      "[2277 rows x 5 columns]\n"
     ]
    }
   ],
   "source": [
    "# Calcula el volumen del tráfico de Internet usado por cada usuario al mes. Guarda el resultado.\n",
    "#df4_internet['session_month'] = df4_internet['session_date'].dt.to_period('M')\n",
    "internet_user_month = df4_internet.groupby(['user_id','session_month'])['mb_used'].sum().reset_index(name='volum_trafic_internet')\n",
    "internet_user_month['volum_trafic_internet_GB']=(internet_user_month['volum_trafic_internet']/1024)\n",
    "internet_user_month['volum_trafic_internet_GB_redondeo']=np.ceil(internet_user_month['volum_trafic_internet_GB']).astype(int)\n",
    "print(internet_user_month)"
   ]
  },
  {
   "cell_type": "code",
   "execution_count": 39,
   "metadata": {
    "id": "FW99ykyf0q1H"
   },
   "outputs": [
    {
     "name": "stdout",
     "output_type": "stream",
     "text": [
      "      user_id    month  count_call  total_minutes  number_message  \\\n",
      "0        1000  2018-12        16.0         116.83            11.0   \n",
      "1        1001  2018-08        27.0         171.14            30.0   \n",
      "2        1001  2018-09        49.0         297.69            44.0   \n",
      "3        1001  2018-10        65.0         374.11            53.0   \n",
      "4        1001  2018-11        64.0         404.59            36.0   \n",
      "...       ...      ...         ...            ...             ...   \n",
      "2288     1349  2018-12         NaN            NaN            61.0   \n",
      "2289     1361  2018-05         NaN            NaN             2.0   \n",
      "2290     1482  2018-10         NaN            NaN             2.0   \n",
      "2291     1108  2018-12         NaN            NaN             NaN   \n",
      "2292     1311  2018-06         NaN            NaN             NaN   \n",
      "\n",
      "      volum_trafic_internet  volum_trafic_internet_GB  \\\n",
      "0                   1901.47                  1.856904   \n",
      "1                   6919.15                  6.756982   \n",
      "2                  13314.82                 13.002754   \n",
      "3                  22330.49                 21.807119   \n",
      "4                  18504.30                 18.070605   \n",
      "...                     ...                       ...   \n",
      "2288               13039.91                 12.734287   \n",
      "2289                1519.69                  1.484072   \n",
      "2290                    NaN                       NaN   \n",
      "2291                 233.17                  0.227705   \n",
      "2292                1498.83                  1.463701   \n",
      "\n",
      "      volum_trafic_internet_GB_redondeo  \n",
      "0                                   2.0  \n",
      "1                                   7.0  \n",
      "2                                  14.0  \n",
      "3                                  22.0  \n",
      "4                                  19.0  \n",
      "...                                 ...  \n",
      "2288                               13.0  \n",
      "2289                                2.0  \n",
      "2290                                NaN  \n",
      "2291                                1.0  \n",
      "2292                                2.0  \n",
      "\n",
      "[2293 rows x 8 columns]\n"
     ]
    }
   ],
   "source": [
    "#[Junta los datos agregados en un DataFrame para que haya un registro que represente lo que consumió un usuario único en un mes determinado.]\n",
    "# Fusiona los datos de llamadas, minutos, mensajes e Internet con base en user_id y month\n",
    "call_user_month.rename(columns={'call_month': 'month'}, inplace=True)\n",
    "call_user_minute.rename(columns={'call_month': 'month'}, inplace=True)\n",
    "message_user_month.rename(columns={'message_month': 'month'}, inplace=True)\n",
    "internet_user_month.rename(columns={'session_month': 'month'}, inplace=True)\n",
    "df_fusion = call_user_month.merge(call_user_minute, on=['user_id','month']).merge(message_user_month, on=['user_id','month']).merge(internet_user_month, on=['user_id','month'])\n",
    "df_fusion_v = call_user_month.merge(call_user_minute, how='outer', on=['user_id','month']).merge(message_user_month, how='outer', on=['user_id','month']).merge(internet_user_month, how='outer', on=['user_id','month'])\n",
    "print(df_fusion_v)"
   ]
  },
  {
   "cell_type": "code",
   "execution_count": 40,
   "metadata": {
    "id": "0dNOXHag0q1H"
   },
   "outputs": [
    {
     "name": "stdout",
     "output_type": "stream",
     "text": [
      "     user_id    month  count_call  total_minutes  number_message  \\\n",
      "0       1000  2018-12          16         116.83              11   \n",
      "1       1001  2018-08          27         171.14              30   \n",
      "2       1001  2018-09          49         297.69              44   \n",
      "3       1001  2018-10          65         374.11              53   \n",
      "4       1001  2018-11          64         404.59              36   \n",
      "...      ...      ...         ...            ...             ...   \n",
      "1754    1496  2018-09          52         389.94              21   \n",
      "1755    1496  2018-10          46         301.16              18   \n",
      "1756    1496  2018-11          39         291.88              13   \n",
      "1757    1496  2018-12          40         278.61              11   \n",
      "1758    1497  2018-12          54         276.53              50   \n",
      "\n",
      "      volum_trafic_internet  volum_trafic_internet_GB  \\\n",
      "0                   1901.47                  1.856904   \n",
      "1                   6919.15                  6.756982   \n",
      "2                  13314.82                 13.002754   \n",
      "3                  22330.49                 21.807119   \n",
      "4                  18504.30                 18.070605   \n",
      "...                     ...                       ...   \n",
      "1754               16389.27                 16.005146   \n",
      "1755               14287.36                 13.952500   \n",
      "1756                8547.36                  8.347031   \n",
      "1757               16438.99                 16.053701   \n",
      "1758               11106.55                 10.846240   \n",
      "\n",
      "      volum_trafic_internet_GB_redondeo      plan  \n",
      "0                                     2  ultimate  \n",
      "1                                     7      surf  \n",
      "2                                    14      surf  \n",
      "3                                    22      surf  \n",
      "4                                    19      surf  \n",
      "...                                 ...       ...  \n",
      "1754                                 17      surf  \n",
      "1755                                 14      surf  \n",
      "1756                                  9      surf  \n",
      "1757                                 17      surf  \n",
      "1758                                 11  ultimate  \n",
      "\n",
      "[1759 rows x 9 columns]\n"
     ]
    }
   ],
   "source": [
    "# Añade la información de la tarifa\n",
    "df_tarifa=df1_users[['user_id','plan']].copy()\n",
    "df_fusion['user_id'] = df_fusion['user_id'].astype(object)\n",
    "df_tarifa['user_id'] = df_tarifa['user_id'].astype(object)\n",
    "df_fusion_tarifa = df_fusion.merge(df_tarifa, on='user_id', how='left')\n",
    "#print(df_tarifa.head())\n",
    "#print(df_fusion.head())\n",
    "print(df_fusion_tarifa)"
   ]
  },
  {
   "cell_type": "code",
   "execution_count": 41,
   "metadata": {
    "id": "5FGCf_c60q1I"
   },
   "outputs": [
    {
     "name": "stdout",
     "output_type": "stream",
     "text": [
      "     user_id    month  count_call  total_minutes  number_message  \\\n",
      "0       1000  2018-12          16         116.83              11   \n",
      "1       1001  2018-08          27         171.14              30   \n",
      "2       1001  2018-09          49         297.69              44   \n",
      "3       1001  2018-10          65         374.11              53   \n",
      "4       1001  2018-11          64         404.59              36   \n",
      "...      ...      ...         ...            ...             ...   \n",
      "1754    1496  2018-09          52         389.94              21   \n",
      "1755    1496  2018-10          46         301.16              18   \n",
      "1756    1496  2018-11          39         291.88              13   \n",
      "1757    1496  2018-12          40         278.61              11   \n",
      "1758    1497  2018-12          54         276.53              50   \n",
      "\n",
      "      volum_trafic_internet  volum_trafic_internet_GB  \\\n",
      "0                   1901.47                  1.856904   \n",
      "1                   6919.15                  6.756982   \n",
      "2                  13314.82                 13.002754   \n",
      "3                  22330.49                 21.807119   \n",
      "4                  18504.30                 18.070605   \n",
      "...                     ...                       ...   \n",
      "1754               16389.27                 16.005146   \n",
      "1755               14287.36                 13.952500   \n",
      "1756                8547.36                  8.347031   \n",
      "1757               16438.99                 16.053701   \n",
      "1758               11106.55                 10.846240   \n",
      "\n",
      "      volum_trafic_internet_GB_redondeo      plan  pago_mes  \n",
      "0                                     2  ultimate     70.00  \n",
      "1                                     7      surf     20.00  \n",
      "2                                    14      surf     20.00  \n",
      "3                                    22      surf     90.09  \n",
      "4                                    19      surf     60.00  \n",
      "...                                 ...       ...       ...  \n",
      "1754                                 17      surf     40.00  \n",
      "1755                                 14      surf     20.00  \n",
      "1756                                  9      surf     20.00  \n",
      "1757                                 17      surf     40.00  \n",
      "1758                                 11  ultimate     70.00  \n",
      "\n",
      "[1759 rows x 10 columns]\n"
     ]
    }
   ],
   "source": [
    "# Calcula el ingreso mensual para cada usuario\n",
    "def calcular_ingreso(dataframe):\n",
    "    total_mes = []\n",
    "    for index, row in dataframe.iterrows():\n",
    "        plan = row['plan']\n",
    "        total_minutes = mt.ceil(row['total_minutes'])\n",
    "        number_message = row['number_message']\n",
    "        volumen_mb = row['volum_trafic_internet']\n",
    "        volumen_gb = mt.ceil(volumen_mb / 1024)\n",
    "        total_ingreso = 0\n",
    "        if plan == 'surf':\n",
    "            tarifa_mensual = 20\n",
    "            exceso_min = max(0,total_minutes-500)\n",
    "            exceso_sms = max(0,number_message-50)\n",
    "            exceso_gb = max(0,volumen_gb-15)\n",
    "            total_ingreso = tarifa_mensual+(exceso_min*0.03)+(exceso_sms*0.03)+(exceso_gb*10)\n",
    "        elif plan == 'ultimate':\n",
    "            tarifa_mensual = 70\n",
    "            exceso_min = max(0,total_minutes-3000)\n",
    "            exceso_sms = max(0,number_message-1000)\n",
    "            exceso_gb = max(0,volumen_gb-30)\n",
    "            total_ingreso = tarifa_mensual+(exceso_min*0.01)+(exceso_sms*0.01)+(exceso_gb*7)\n",
    "        total_mes.append(total_ingreso)\n",
    "    dataframe['pago_mes'] = total_mes\n",
    "    return dataframe\n",
    "df_consolidado_mes= calcular_ingreso(df_fusion_tarifa)\n",
    "print(df_consolidado_mes)"
   ]
  },
  {
   "cell_type": "markdown",
   "metadata": {
    "id": "r627zBO50q1K"
   },
   "source": [
    "Se lo indentificar cual es el pago que realiza el usuario al mes por el plan y servicios que adquirio; se pudo observar que hay usuarios que realizan el pago correspondiente al plan adquirido pero de la misma forma se observa que hay usuarios que pagan montos mayores al de su plan ya que hicieron uso de los servicios adicionales los cuales incorporo su pago del mes."
   ]
  },
  {
   "cell_type": "markdown",
   "metadata": {
    "id": "-jtyHzJb0q1I"
   },
   "source": [
    "## Estudia el comportamiento de usuario"
   ]
  },
  {
   "cell_type": "markdown",
   "metadata": {
    "id": "vtW4CJEe0q1J"
   },
   "source": [
    "### Llamadas"
   ]
  },
  {
   "cell_type": "code",
   "execution_count": 42,
   "metadata": {
    "id": "Jf5v5--k0q1J"
   },
   "outputs": [
    {
     "name": "stdout",
     "output_type": "stream",
     "text": [
      "plan           surf    ultimate\n",
      "month                          \n",
      "2018-01  278.850000  187.453333\n",
      "2018-02  313.240000  458.316000\n",
      "2018-03  324.985625  389.648571\n",
      "2018-04  346.206286  303.301250\n",
      "2018-05  418.675283  387.340952\n",
      "2018-06  401.525429  349.536757\n",
      "2018-07  426.454382  415.912979\n",
      "2018-08  404.183950  411.488246\n",
      "2018-09  402.010068  413.126479\n",
      "2018-10  417.628785  438.700795\n",
      "2018-11  418.942202  438.496569\n",
      "2018-12  467.447073  436.801040\n"
     ]
    },
    {
     "data": {
      "image/png": "[encoded data removed]",
      "text/plain": [
       "<Figure size 800x800 with 1 Axes>"
      ]
     },
     "metadata": {},
     "output_type": "display_data"
    }
   ],
   "source": [
    "# Compara la duración promedio de llamadas por cada plan y por cada mes. Traza un gráfico de barras para visualizarla.\n",
    "llamadas=df_consolidado_mes.groupby(['plan','month'])['total_minutes'].mean().reset_index(name='promedio')\n",
    "pivot=llamadas.pivot_table(index='month', columns='plan', values='promedio')\n",
    "print(pivot)\n",
    "pivot.plot(\n",
    "    title='Promedio de llamadas por cada plan y por cada mes',\n",
    "    xlabel='Mes',\n",
    "    ylabel='Promedio',\n",
    "    kind='bar',\n",
    "    figsize=[8,8],\n",
    "    yticks=range(0,490,20),\n",
    ")\n",
    "plt.legend(['surf','ultimate'])\n",
    "plt.show()\n"
   ]
  },
  {
   "cell_type": "code",
   "execution_count": 43,
   "metadata": {
    "id": "QoLqW1S_0q1J"
   },
   "outputs": [
    {
     "name": "stdout",
     "output_type": "stream",
     "text": [
      "plan          surf  ultimate\n",
      "month                       \n",
      "2018-01     278.85    562.36\n",
      "2018-02    1566.20   2291.58\n",
      "2018-03    5199.77   2727.54\n",
      "2018-04   12117.22   4852.82\n",
      "2018-05   22189.79   8134.16\n",
      "2018-06   28106.78  12932.86\n",
      "2018-07   37954.44  19547.91\n",
      "2018-08   48097.89  23454.83\n",
      "2018-09   59095.48  29331.98\n",
      "2018-10   75590.81  38605.67\n",
      "2018-11   91329.40  44726.65\n",
      "2018-12  114991.98  54600.13\n"
     ]
    },
    {
     "data": {
      "image/png": "[encoded data removed]",
      "text/plain": [
       "<Figure size 640x480 with 1 Axes>"
      ]
     },
     "metadata": {},
     "output_type": "display_data"
    }
   ],
   "source": [
    "# Compara el número de minutos mensuales que necesitan los usuarios de cada plan. Traza un histograma.\n",
    "#print(df_consolidado_mes)\n",
    "llamadas=df_consolidado_mes.groupby(['plan','month'])['total_minutes'].sum().reset_index(name='suma')\n",
    "pivot=llamadas.pivot_table(index='month', columns='plan', values='suma')\n",
    "print(pivot)\n",
    "pivot.plot(\n",
    "    title='Promedio de llamadas por cada plan y por cada mes',\n",
    "    xlabel='Mes',\n",
    "    ylabel='Promedio',\n",
    "    kind='hist',\n",
    "    bins=30,\n",
    "    alpha=0.8,\n",
    "    xticks=range(0,120000,5000),\n",
    "    rot=90\n",
    ")\n",
    "plt.legend(['surf','ultimate'])\n",
    "plt.show()\n"
   ]
  },
  {
   "cell_type": "code",
   "execution_count": 45,
   "metadata": {
    "id": "oSndbAnt0q1K"
   },
   "outputs": [
    {
     "name": "stdout",
     "output_type": "stream",
     "text": [
      "Media por plan:\n",
      "plan\n",
      "surf        420.778483\n",
      "ultimate    417.562159\n",
      "Name: total_minutes, dtype: float64\n",
      "\n",
      "Varianza por plan:\n",
      "plan\n",
      "surf        49492.562612\n",
      "ultimate    55607.233145\n",
      "Name: total_minutes, dtype: float64\n",
      "\n",
      "valores estadisticos:\n",
      "        count_call  total_minutes  number_message  volum_trafic_internet  \\\n",
      "count  1759.000000    1759.000000     1759.000000            1759.000000   \n",
      "mean     62.226265     419.719784       41.782831           16833.751097   \n",
      "std      32.838072     226.885639       32.673455            7708.682398   \n",
      "min       1.000000       0.000000        1.000000              92.310000   \n",
      "25%      40.000000     261.550000       17.000000           12524.640000   \n",
      "50%      61.000000     409.110000       34.000000           16867.460000   \n",
      "75%      81.000000     552.135000       59.000000           20911.990000   \n",
      "max     205.000000    1431.220000      266.000000           70931.590000   \n",
      "\n",
      "       volum_trafic_internet_GB  volum_trafic_internet_GB_redondeo  \\\n",
      "count               1759.000000                        1759.000000   \n",
      "mean                  16.439210                          16.947129   \n",
      "std                    7.528010                           7.535358   \n",
      "min                    0.090146                           1.000000   \n",
      "25%                   12.231094                          13.000000   \n",
      "50%                   16.472129                          17.000000   \n",
      "75%                   20.421865                          21.000000   \n",
      "max                   69.269131                          70.000000   \n",
      "\n",
      "          pago_mes  \n",
      "count  1759.000000  \n",
      "mean     64.041632  \n",
      "std      44.591896  \n",
      "min      20.000000  \n",
      "25%      24.545000  \n",
      "50%      70.000000  \n",
      "75%      70.000000  \n",
      "max     588.660000  \n"
     ]
    }
   ],
   "source": [
    "# Calcula la media y la varianza de la duración mensual de llamadas.\n",
    "#print(df_consolidado_mes)\n",
    "media_plan = df_consolidado_mes.groupby('plan')['total_minutes'].mean()\n",
    "varianza_plan = df_consolidado_mes.groupby('plan')['total_minutes'].var()\n",
    "\n",
    "print(\"Media por plan:\")\n",
    "print(media_plan)\n",
    "print(\"\\nVarianza por plan:\")\n",
    "print(varianza_plan)\n",
    "print(\"\\nvalores estadisticos:\")\n",
    "print(df_consolidado_mes.describe())"
   ]
  },
  {
   "cell_type": "code",
   "execution_count": 85,
   "metadata": {
    "id": "nZzoRUKc0q1K"
   },
   "outputs": [
    {
     "data": {
      "image/png": "[encoded data removed]",
      "text/plain": [
       "<Figure size 640x480 with 1 Axes>"
      ]
     },
     "metadata": {},
     "output_type": "display_data"
    }
   ],
   "source": [
    "# Traza un diagrama de caja para visualizar la distribución de la duración mensual de llamadas\n",
    "df_consolidado_mes.boxplot(column='total_minutes')\n",
    "plt.title('Distribución de duración mensual de llamadas por plan')\n",
    "plt.xlabel('Plan')\n",
    "plt.ylabel('Minutos')\n",
    "plt.grid(True)\n",
    "plt.yticks=range(0,1500,100)\n",
    "plt.show()\n"
   ]
  },
  {
   "cell_type": "markdown",
   "metadata": {
    "id": "r627zBO50q1K"
   },
   "source": [
    "Los usuarios realizan llamadas alrededor de 400 minutos, lo que indica que la mitad de los usuarios hablan menos de 400 minutos al mes, y la otra mitad más de ese tiempo; tambien se observa que hay usuarios que realizan llamadas de 0 minutos siendo una menor cantidad asi tambien tenemos llamadas desde 1000 hasta mayores de 1400 minutos"
   ]
  },
  {
   "cell_type": "markdown",
   "metadata": {
    "id": "8idKy8Wh0q1L"
   },
   "source": [
    "### Mensajes"
   ]
  },
  {
   "cell_type": "code",
   "execution_count": 86,
   "metadata": {
    "id": "NXLxiTit0q1L"
   },
   "outputs": [
    {
     "name": "stdout",
     "output_type": "stream",
     "text": [
      "plan      surf  ultimate\n",
      "month                   \n",
      "2018-01     21        62\n",
      "2018-02    108       139\n",
      "2018-03    351       243\n",
      "2018-04    864       463\n",
      "2018-05   1778       931\n",
      "2018-06   2292      1374\n",
      "2018-07   3096      1937\n",
      "2018-08   4439      2732\n",
      "2018-09   5672      3259\n",
      "2018-10   7507      4179\n",
      "2018-11   8739      4861\n",
      "2018-12  11731      6718\n"
     ]
    },
    {
     "data": {
      "image/png": "[encoded data removed]",
      "text/plain": [
       "<Figure size 800x800 with 1 Axes>"
      ]
     },
     "metadata": {},
     "output_type": "display_data"
    }
   ],
   "source": [
    "# Comprara el número de mensajes que tienden a enviar cada mes los usuarios de cada plan\n",
    "#print(df_consolidado_mes.head(20))\n",
    "mensajes=df_consolidado_mes.groupby(['plan','month'])['number_message'].sum().reset_index(name='suma')\n",
    "pivot_sms=mensajes.pivot_table(index='month', columns='plan', values='suma')\n",
    "print(pivot_sms)\n",
    "pivot_sms.plot(\n",
    "    title='número de mensajes que tienden a enviar cada mes los usuarios de cada plan',\n",
    "    xlabel='Mes',\n",
    "    ylabel='Suma',\n",
    "    kind='bar',\n",
    "    figsize=[8,8],\n",
    "    yticks=range(0,12001,500),\n",
    ")\n",
    "plt.legend(['surf','ultimate'])\n",
    "plt.show()\n"
   ]
  },
  {
   "cell_type": "code",
   "execution_count": 95,
   "metadata": {
    "id": "GRI_R7xF0q1L"
   },
   "outputs": [
    {
     "name": "stdout",
     "output_type": "stream",
     "text": [
      "plan          surf  ultimate\n",
      "user_id                     \n",
      "1000           NaN   1901.47\n",
      "1001      80437.94       NaN\n",
      "1002      40293.33       NaN\n",
      "1003      27044.14       NaN\n",
      "1004     156352.81       NaN\n",
      "...            ...       ...\n",
      "1491      63050.67       NaN\n",
      "1492      40823.96       NaN\n",
      "1494      91389.19       NaN\n",
      "1496      64268.64       NaN\n",
      "1497           NaN  11106.55\n",
      "\n",
      "[393 rows x 2 columns]\n"
     ]
    },
    {
     "data": {
      "image/png": "[encoded data removed]",
      "text/plain": [
       "<Figure size 640x480 with 1 Axes>"
      ]
     },
     "metadata": {},
     "output_type": "display_data"
    }
   ],
   "source": [
    "# Compara la cantidad de tráfico de Internet consumido por usuarios por plan\n",
    "#print(df_consolidado_mes.head())\n",
    "traf_internet=df_consolidado_mes.groupby(['plan','user_id'])['volum_trafic_internet'].sum().reset_index(name='trafico')\n",
    "pivot_inter=traf_internet.pivot_table(index='user_id', columns='plan', values='trafico')\n",
    "print(pivot_inter)\n",
    "\n",
    "pivot_inter.boxplot(column=['surf', 'ultimate'])\n",
    "plt.title('Cantidad de tráfico de Internet consumido por usuarios por plan')\n",
    "plt.xlabel('Plan')\n",
    "plt.ylabel('Tráfico (MB)')\n",
    "plt.grid(True)\n",
    "plt.show()"
   ]
  },
  {
   "cell_type": "markdown",
   "metadata": {
    "id": "390SSL480q1M"
   },
   "source": [
    "El uso de sms en el plan surf es superior con respecto al plan ultime ya que se ve un consumo mayor, el consumo al pasar de los meses va creciendo teniendo en el mes 12 del 2018 el consumo mas elevado de mensajes."
   ]
  },
  {
   "cell_type": "markdown",
   "metadata": {
    "id": "42YSypXz0q1M"
   },
   "source": [
    "### Internet"
   ]
  },
  {
   "cell_type": "code",
   "execution_count": 97,
   "metadata": {
    "id": "lSuKPtjh0q1M"
   },
   "outputs": [
    {
     "name": "stdout",
     "output_type": "stream",
     "text": [
      "plan           surf    ultimate\n",
      "month                          \n",
      "2018-01     7894.79    20859.60\n",
      "2018-02    46553.82    86678.78\n",
      "2018-03   198357.48   166850.06\n",
      "2018-04   414788.20   228572.67\n",
      "2018-05   787125.24   356864.13\n",
      "2018-06  1089602.03   571687.82\n",
      "2018-07  1487064.36   775468.24\n",
      "2018-08  2042246.69  1024688.05\n",
      "2018-09  2424433.25  1165149.16\n",
      "2018-10  3150526.25  1541075.29\n",
      "2018-11  3553434.74  1767022.06\n",
      "2018-12  4420214.74  2283410.73\n"
     ]
    },
    {
     "data": {
      "image/png": "[encoded data removed]",
      "text/plain": [
       "<Figure size 640x480 with 1 Axes>"
      ]
     },
     "metadata": {},
     "output_type": "display_data"
    },
    {
     "data": {
      "image/png": "[encoded data removed]",
      "text/plain": [
       "<Figure size 640x480 with 1 Axes>"
      ]
     },
     "metadata": {},
     "output_type": "display_data"
    }
   ],
   "source": [
    "#print(df_consolidado_mes)\n",
    "internet=df_consolidado_mes.groupby(['plan','month'])['volum_trafic_internet'].sum().reset_index(name='net')\n",
    "pivot_net=internet.pivot_table(index=['month'], columns='plan', values='net')\n",
    "print(pivot_net)\n",
    "\n",
    "pivot_inter.boxplot(column=['surf', 'ultimate'])\n",
    "plt.title('Cantidad de tráfico de Internet consumido por usuarios por plan')\n",
    "plt.xlabel('Plan')\n",
    "plt.ylabel('Tráfico (MB)')\n",
    "plt.grid(True)\n",
    "plt.show()\n",
    "\n",
    "pivot_net.plot(\n",
    "    title='cantidad de consumo de tráfico de Internet',\n",
    "    xlabel='Mes',\n",
    "    ylabel='trafic',\n",
    "    kind='bar',\n",
    "    #figsize=[8,8],\n",
    "    #yticks=range(0,12001,500),\n",
    ")\n",
    "plt.legend(['surf','ultimate'])\n",
    "plt.show()"
   ]
  },
  {
   "cell_type": "markdown",
   "metadata": {
    "id": "UN9zwuMP0q1N"
   },
   "source": [
    "Se tiene un consumo mucho mayor en el plan surf con respecto al plan ultimate, siendo el mes 12 del 2018 donde se genera mas consumo; este se ve de forma creciente desde el mes 1 hasta el mes 12 del 2018."
   ]
  },
  {
   "cell_type": "markdown",
   "metadata": {
    "id": "tCijq3260q1N"
   },
   "source": [
    "## Ingreso"
   ]
  },
  {
   "cell_type": "code",
   "execution_count": 102,
   "metadata": {
    "id": "tz-dq_V00q1O"
   },
   "outputs": [
    {
     "name": "stdout",
     "output_type": "stream",
     "text": [
      "plan         surf  ultimate\n",
      "month                      \n",
      "2018-01     20.00     210.0\n",
      "2018-02    118.34     350.0\n",
      "2018-03    613.23     546.0\n",
      "2018-04   1409.36    1169.0\n",
      "2018-05   2669.66    1491.0\n",
      "2018-06   3622.81    2667.0\n",
      "2018-07   5460.90    3402.0\n",
      "2018-08   7618.36    4130.0\n",
      "2018-09   8358.17    5068.0\n",
      "2018-10  11761.92    6349.0\n",
      "2018-11  12365.26    7357.0\n",
      "2018-12  16799.22    9093.0\n",
      "plan           surf     ultimate\n",
      "count     12.000000    12.000000\n",
      "mean    5901.435833  3486.000000\n",
      "std     5525.817934  2966.079782\n",
      "min       20.000000   210.000000\n",
      "25%     1210.327500  1013.250000\n",
      "50%     4541.855000  3034.500000\n",
      "75%     9209.107500  5388.250000\n",
      "max    16799.220000  9093.000000\n"
     ]
    },
    {
     "data": {
      "image/png": "[encoded data removed]",
      "text/plain": [
       "<Figure size 640x480 with 1 Axes>"
      ]
     },
     "metadata": {},
     "output_type": "display_data"
    },
    {
     "data": {
      "image/png": "[encoded data removed]",
      "text/plain": [
       "<Figure size 640x480 with 1 Axes>"
      ]
     },
     "metadata": {},
     "output_type": "display_data"
    }
   ],
   "source": [
    "#print(df_consolidado_mes)\n",
    "ingreso=df_consolidado_mes.groupby(['plan','month'])['pago_mes'].sum().reset_index(name='ingreso')\n",
    "pivot_ing=ingreso.pivot_table(index=['month'], columns='plan', values='ingreso')\n",
    "print(pivot_ing)\n",
    "print(pivot_ing.describe())\n",
    "\n",
    "pivot_ing.plot(\n",
    "    title='Ingreso mensual por plan',\n",
    "    xlabel='Mes',\n",
    "    ylabel='Ingreso',\n",
    "    kind='bar',\n",
    "    #figsize=[8,8],\n",
    "    yticks=range(0,17000,1000),\n",
    ")\n",
    "plt.legend(['surf','ultimate'])\n",
    "plt.show()\n",
    "\n",
    "pivot_ing.boxplot(column=['surf', 'ultimate'])\n",
    "plt.title('Cantidad de tráfico de Internet consumido por usuarios por plan')\n",
    "plt.xlabel('Plan')\n",
    "plt.ylabel('Tráfico (MB)')\n",
    "plt.grid(True)\n",
    "plt.show()\n"
   ]
  },
  {
   "cell_type": "markdown",
   "metadata": {
    "id": "KAFidcXZ0q1P"
   },
   "source": [
    "El plan de surf tiene mayores ingresos son respecto al plan ultimate; los 2 primeros meses el plan surf es inferior a ultimate mas desde el tercer mes hasta el doceavo se ve que va se forma creciente, llevandose po una gran diferencia al total."
   ]
  },
  {
   "cell_type": "markdown",
   "metadata": {
    "id": "ajJ7VKeI0q1Q"
   },
   "source": [
    "## Prueba las hipótesis estadísticas"
   ]
  },
  {
   "cell_type": "code",
   "execution_count": 46,
   "metadata": {
    "id": "nFoPNlPq0q1R"
   },
   "outputs": [
    {
     "name": "stdout",
     "output_type": "stream",
     "text": [
      "Valor p de Levene (igualdad de varianzas): 2.5914843897925543e-69\n",
      "Valor p: 8.319558977074422e-14\n",
      "Rechazamos la hipótesis nula\n"
     ]
    }
   ],
   "source": [
    "# Prueba las hipótesis\n",
    "#print(df_consolidado_mes)\n",
    "\n",
    "ingresos_ultimate = df_consolidado_mes[df_consolidado_mes['plan'] == 'ultimate']['pago_mes']\n",
    "ingresos_surf = df_consolidado_mes[df_consolidado_mes['plan'] == 'surf']['pago_mes']\n",
    "\n",
    "stat_levene, p_levene = st.levene(ingresos_ultimate, ingresos_surf)\n",
    "print(\"Valor p de Levene (igualdad de varianzas):\", p_levene)\n",
    "\n",
    "p_value = st.ttest_ind(ingresos_ultimate, ingresos_surf, equal_var=False)\n",
    "print('Valor p:', p_value.pvalue)\n",
    "\n",
    "alpha = 0.05\n",
    "if p_value.pvalue < alpha:\n",
    "    print(\"Rechazamos la hipótesis nula\")\n",
    "else:\n",
    "    print(\"No podemos rechazar la hipótesis nula\")\n"
   ]
  },
  {
   "cell_type": "markdown",
   "metadata": {
    "id": "LsBgitqj0q1R"
   },
   "source": [
    "determinamos que los ingresos promedio entre los planes Ultimate y Surf son diferentes."
   ]
  },
  {
   "cell_type": "code",
   "execution_count": 47,
   "metadata": {
    "id": "Cqcj7wrZ0q1S"
   },
   "outputs": [
    {
     "name": "stdout",
     "output_type": "stream",
     "text": [
      "Valor p de Levene (igualdad de varianzas): 0.375638151155947\n",
      "Valor p: 0.17684838034423503\n",
      "No podemos rechazar la hipótesis nula\n"
     ]
    },
    {
     "name": "stderr",
     "output_type": "stream",
     "text": [
      "/.venv/lib/python3.9/site-packages/pandas/core/frame.py:3191: SettingWithCopyWarning: \n",
      "A value is trying to be set on a copy of a slice from a DataFrame.\n",
      "Try using .loc[row_indexer,col_indexer] = value instead\n",
      "\n",
      "See the caveats in the documentation: https://pandas.pydata.org/pandas-docs/stable/user_guide/indexing.html#returning-a-view-versus-a-copy\n",
      "  self[k1] = value[k2]\n"
     ]
    }
   ],
   "source": [
    "# Prueba las hipótesis\n",
    "pagos_filt = df_consolidado_mes.groupby('user_id')['pago_mes'].sum().reset_index()\n",
    "filt=df1_users[['user_id','city','plan']]\n",
    "filt[['ciudad', 'condado']] = filt['city'].str.split(',', expand=True)\n",
    "filtro_ciudad=filt[['user_id','ciudad','plan']].copy()\n",
    "union=pagos_filt.merge(filtro_ciudad, on='user_id')\n",
    "#print(union)\n",
    "\n",
    "ingresos_filtro = union[union['ciudad'] == 'New York-Newark-Jersey City']['pago_mes']\n",
    "ingresos_otros = union[union['ciudad'] != 'New York-Newark-Jersey City']['pago_mes']\n",
    "\n",
    "stat_levene, p_levene = st.levene(ingresos_filtro, ingresos_otros)\n",
    "print(\"Valor p de Levene (igualdad de varianzas):\", p_levene)\n",
    "\n",
    "p_value = st.ttest_ind(ingresos_filtro, ingresos_otros, equal_var=False)\n",
    "\n",
    "print('Valor p:', p_value.pvalue)\n",
    "\n",
    "alpha = 0.05\n",
    "if p_value.pvalue < alpha:\n",
    "    print(\"Rechazamos la hipótesis nula\")\n",
    "else:\n",
    "    print(\"No podemos rechazar la hipótesis nula\")\n"
   ]
  },
  {
   "cell_type": "markdown",
   "metadata": {
    "id": "UN9zwuMP0q1N"
   },
   "source": [
    "Los ingresos promedios varian entre los usuarios del área New York-Newark-Jersey City NY - NY y los usuarios de otras regiones."
   ]
  },
  {
   "cell_type": "markdown",
   "metadata": {
    "id": "bbTR8UQO0q1T"
   },
   "source": [
    "## Conclusión general\n",
    "La limpieza de los datos fue importante para lueg poder realizar los ejercicios.\n",
    "Se puso observar que hay mas clientes que adquiere el plan surf el cual genera mayores ingresos a comparacion del plan ultimate que a pesar de ser un buen plan no se aproxima a los ingresos del plan surf\n",
    "En cuanto al promedio de llamadas realizadas en ambos planes si pudo observar variaciones en los meses y al consumo promedio de llamadas por plan y por periodo de tiempo, por lo cual identificamos que el uso de llamas en ambos planes puede variar con respecto al mes."
   ]
  }
 ],
 "metadata": {
  "ExecuteTimeLog": [
   {
    "duration": 828,
    "start_time": "2021-11-16T09:21:11.304Z"
   },
   {
    "duration": 893,
    "start_time": "2021-11-16T09:21:17.728Z"
   },
   {
    "duration": 1150,
    "start_time": "2021-11-16T09:21:29.568Z"
   },
   {
    "duration": 3,
    "start_time": "2021-11-16T09:24:14.495Z"
   },
   {
    "duration": 120,
    "start_time": "2021-11-16T09:24:46.630Z"
   },
   {
    "duration": 3,
    "start_time": "2021-11-16T09:28:27.882Z"
   },
   {
    "duration": 4,
    "start_time": "2021-11-16T09:29:54.281Z"
   },
   {
    "duration": 3,
    "start_time": "2021-11-16T09:30:45.936Z"
   },
   {
    "duration": 4,
    "start_time": "2021-11-16T09:31:06.300Z"
   },
   {
    "duration": 113,
    "start_time": "2021-11-16T09:31:37.208Z"
   },
   {
    "duration": 143,
    "start_time": "2021-11-16T09:31:48.656Z"
   },
   {
    "duration": 98,
    "start_time": "2021-11-16T09:31:55.678Z"
   },
   {
    "duration": 3,
    "start_time": "2021-11-16T09:32:08.535Z"
   },
   {
    "duration": 111,
    "start_time": "2021-11-16T09:32:10.120Z"
   },
   {
    "duration": 3,
    "start_time": "2021-11-16T09:32:15.732Z"
   },
   {
    "duration": 4,
    "start_time": "2021-11-16T09:32:29.423Z"
   },
   {
    "duration": 3,
    "start_time": "2021-11-16T10:03:03.074Z"
   },
   {
    "duration": 3,
    "start_time": "2021-11-16T10:10:01.288Z"
   },
   {
    "duration": 3,
    "start_time": "2021-11-16T10:10:46.923Z"
   },
   {
    "duration": 121,
    "start_time": "2021-11-16T10:37:46.494Z"
   },
   {
    "duration": 125,
    "start_time": "2021-11-16T10:38:20.632Z"
   },
   {
    "duration": 112,
    "start_time": "2021-11-16T10:46:53.001Z"
   },
   {
    "duration": 110,
    "start_time": "2021-11-16T10:48:25.775Z"
   },
   {
    "duration": 3,
    "start_time": "2021-11-16T10:50:18.720Z"
   },
   {
    "duration": 4,
    "start_time": "2021-11-16T10:50:37.649Z"
   },
   {
    "duration": 2,
    "start_time": "2021-11-16T10:50:51.884Z"
   },
   {
    "duration": 3,
    "start_time": "2021-11-16T10:51:56.237Z"
   },
   {
    "duration": 101,
    "start_time": "2021-11-16T10:53:13.791Z"
   },
   {
    "duration": 3,
    "start_time": "2021-11-16T10:55:59.186Z"
   },
   {
    "duration": 3,
    "start_time": "2021-11-16T10:56:10.751Z"
   },
   {
    "duration": 3,
    "start_time": "2021-11-16T10:56:49.038Z"
   },
   {
    "duration": 3,
    "start_time": "2021-11-16T10:56:49.174Z"
   },
   {
    "duration": 4,
    "start_time": "2021-11-16T10:56:49.414Z"
   },
   {
    "duration": 3,
    "start_time": "2021-11-16T10:56:49.680Z"
   },
   {
    "duration": 3,
    "start_time": "2021-11-16T10:56:50.370Z"
   },
   {
    "duration": 114,
    "start_time": "2021-11-16T10:59:34.518Z"
   },
   {
    "duration": 3,
    "start_time": "2021-11-16T11:01:41.201Z"
   },
   {
    "duration": 116,
    "start_time": "2021-11-16T11:01:48.754Z"
   },
   {
    "duration": 3,
    "start_time": "2021-11-16T11:02:16.685Z"
   },
   {
    "duration": 3,
    "start_time": "2021-11-16T11:02:19.479Z"
   },
   {
    "duration": 3,
    "start_time": "2021-11-16T11:02:47.067Z"
   },
   {
    "duration": 3,
    "start_time": "2021-11-16T11:02:49.353Z"
   },
   {
    "duration": 3,
    "start_time": "2021-11-16T11:03:07.835Z"
   },
   {
    "duration": 3,
    "start_time": "2021-11-16T11:03:07.953Z"
   },
   {
    "duration": 112,
    "start_time": "2021-11-16T11:07:52.072Z"
   },
   {
    "duration": 187,
    "start_time": "2021-11-16T11:09:23.468Z"
   },
   {
    "duration": 4,
    "start_time": "2021-11-16T11:10:01.455Z"
   },
   {
    "duration": 3,
    "start_time": "2021-11-16T11:10:05.069Z"
   },
   {
    "duration": 4,
    "start_time": "2021-11-16T11:10:13.376Z"
   },
   {
    "duration": 3,
    "start_time": "2021-11-16T11:10:14.434Z"
   },
   {
    "duration": 3,
    "start_time": "2021-11-16T11:10:22.853Z"
   },
   {
    "duration": 4,
    "start_time": "2021-11-16T11:27:29.279Z"
   },
   {
    "duration": 4,
    "start_time": "2021-11-16T11:29:08.919Z"
   },
   {
    "duration": 118,
    "start_time": "2021-11-16T11:29:46.703Z"
   },
   {
    "duration": 437,
    "start_time": "2021-11-16T11:36:02.181Z"
   },
   {
    "duration": 157,
    "start_time": "2021-11-16T11:36:14.388Z"
   },
   {
    "duration": 207,
    "start_time": "2021-11-16T11:47:15.898Z"
   },
   {
    "duration": 3,
    "start_time": "2021-11-16T11:53:52.092Z"
   },
   {
    "duration": 3,
    "start_time": "2021-11-16T11:53:52.236Z"
   },
   {
    "duration": 3,
    "start_time": "2021-11-16T11:59:12.005Z"
   },
   {
    "duration": 112,
    "start_time": "2021-11-16T12:00:33.446Z"
   },
   {
    "duration": 3,
    "start_time": "2021-11-16T12:02:14.453Z"
   },
   {
    "duration": 3,
    "start_time": "2021-11-16T12:02:39.512Z"
   },
   {
    "duration": 106,
    "start_time": "2021-11-16T12:03:03.460Z"
   },
   {
    "duration": 3,
    "start_time": "2021-11-17T20:37:21.139Z"
   },
   {
    "duration": 3,
    "start_time": "2021-11-17T20:37:22.229Z"
   },
   {
    "duration": 3,
    "start_time": "2021-11-17T20:38:38.806Z"
   },
   {
    "duration": 3,
    "start_time": "2021-11-17T20:38:41.958Z"
   },
   {
    "duration": 3,
    "start_time": "2021-11-17T20:43:46.551Z"
   },
   {
    "duration": 4,
    "start_time": "2021-11-17T20:58:21.835Z"
   },
   {
    "duration": 3,
    "start_time": "2021-11-17T20:59:21.872Z"
   },
   {
    "duration": 4,
    "start_time": "2021-11-17T20:59:45.352Z"
   },
   {
    "duration": 4,
    "start_time": "2021-11-17T20:59:49.646Z"
   },
   {
    "duration": 159,
    "start_time": "2021-11-17T21:02:26.949Z"
   },
   {
    "duration": 3,
    "start_time": "2021-11-17T21:03:53.461Z"
   },
   {
    "duration": 3,
    "start_time": "2021-11-17T21:03:53.694Z"
   },
   {
    "duration": 3,
    "start_time": "2021-11-17T21:05:28.145Z"
   },
   {
    "duration": 116,
    "start_time": "2021-11-17T21:05:57.787Z"
   },
   {
    "duration": 3,
    "start_time": "2021-11-17T21:06:37.993Z"
   },
   {
    "duration": 3,
    "start_time": "2021-11-17T21:06:38.261Z"
   },
   {
    "duration": 3,
    "start_time": "2021-11-17T21:11:54.358Z"
   },
   {
    "duration": 3,
    "start_time": "2021-11-17T21:12:43.846Z"
   },
   {
    "duration": 4,
    "start_time": "2021-11-17T21:13:08.773Z"
   },
   {
    "duration": 3,
    "start_time": "2021-11-17T21:14:44.441Z"
   },
   {
    "duration": 3,
    "start_time": "2021-11-17T21:15:42.059Z"
   },
   {
    "duration": 4,
    "start_time": "2021-11-17T21:15:51.995Z"
   },
   {
    "duration": 3,
    "start_time": "2021-11-17T21:15:53.923Z"
   },
   {
    "duration": 3,
    "start_time": "2021-11-17T21:15:55.282Z"
   },
   {
    "duration": 3,
    "start_time": "2021-11-17T21:16:28.492Z"
   },
   {
    "duration": 3,
    "start_time": "2021-11-17T21:16:32.603Z"
   },
   {
    "duration": 3,
    "start_time": "2021-11-17T21:17:06.941Z"
   },
   {
    "duration": 98,
    "start_time": "2021-11-17T21:18:05.733Z"
   },
   {
    "duration": 4,
    "start_time": "2021-11-17T21:21:35.255Z"
   },
   {
    "duration": 3,
    "start_time": "2021-11-17T21:21:37.804Z"
   },
   {
    "duration": 4,
    "start_time": "2021-11-17T21:23:06.071Z"
   },
   {
    "duration": 3,
    "start_time": "2021-11-17T21:23:24.799Z"
   },
   {
    "duration": 3,
    "start_time": "2021-11-17T21:23:32.591Z"
   },
   {
    "duration": 98,
    "start_time": "2021-11-17T21:28:31.559Z"
   },
   {
    "duration": 3,
    "start_time": "2021-11-17T21:28:45.448Z"
   },
   {
    "duration": 3,
    "start_time": "2021-11-17T21:29:17.303Z"
   },
   {
    "duration": 3,
    "start_time": "2021-11-17T21:29:29.617Z"
   },
   {
    "duration": 3,
    "start_time": "2021-11-17T21:29:32.681Z"
   },
   {
    "duration": 3,
    "start_time": "2021-11-17T21:36:11.474Z"
   },
   {
    "duration": 3,
    "start_time": "2021-11-17T21:36:14.791Z"
   },
   {
    "duration": 3,
    "start_time": "2021-11-17T21:36:53.943Z"
   },
   {
    "duration": 3,
    "start_time": "2021-11-17T21:36:56.165Z"
   },
   {
    "duration": 4,
    "start_time": "2021-11-17T21:37:16.590Z"
   },
   {
    "duration": 3,
    "start_time": "2021-11-17T21:37:22.702Z"
   },
   {
    "duration": 4,
    "start_time": "2021-11-17T21:38:03.479Z"
   },
   {
    "duration": 3,
    "start_time": "2021-11-17T21:38:08.601Z"
   },
   {
    "duration": 3,
    "start_time": "2021-11-17T21:38:12.928Z"
   },
   {
    "duration": 3,
    "start_time": "2021-11-17T21:38:48.896Z"
   },
   {
    "duration": 2,
    "start_time": "2021-11-17T21:38:49.171Z"
   },
   {
    "duration": 4,
    "start_time": "2021-11-17T21:39:57.889Z"
   },
   {
    "duration": 3,
    "start_time": "2021-11-17T21:39:58.057Z"
   },
   {
    "duration": 3,
    "start_time": "2021-11-17T21:41:20.108Z"
   },
   {
    "duration": 3,
    "start_time": "2021-11-17T21:41:20.629Z"
   },
   {
    "duration": 3,
    "start_time": "2021-11-17T21:42:49.136Z"
   },
   {
    "duration": 3,
    "start_time": "2021-11-17T21:43:15.137Z"
   },
   {
    "duration": 4,
    "start_time": "2021-11-17T21:43:16.766Z"
   },
   {
    "duration": 4,
    "start_time": "2021-11-17T21:43:31.711Z"
   },
   {
    "duration": 3,
    "start_time": "2021-11-17T21:43:36.312Z"
   },
   {
    "duration": 4,
    "start_time": "2021-11-17T21:45:08.825Z"
   },
   {
    "duration": 4,
    "start_time": "2021-11-17T21:45:10.119Z"
   },
   {
    "duration": 4,
    "start_time": "2021-11-17T21:45:13.748Z"
   },
   {
    "duration": 3,
    "start_time": "2021-11-17T21:45:22.219Z"
   },
   {
    "duration": 3,
    "start_time": "2021-11-17T21:45:33.412Z"
   },
   {
    "duration": 2,
    "start_time": "2021-11-17T21:46:01.885Z"
   },
   {
    "duration": 3,
    "start_time": "2021-11-17T21:46:03.628Z"
   },
   {
    "duration": 107,
    "start_time": "2021-11-17T21:47:32.512Z"
   },
   {
    "duration": 103,
    "start_time": "2021-11-17T21:50:36.243Z"
   },
   {
    "duration": 3,
    "start_time": "2021-11-18T06:28:31.440Z"
   },
   {
    "duration": 3,
    "start_time": "2021-11-18T06:29:00.168Z"
   },
   {
    "duration": 3,
    "start_time": "2021-11-18T06:31:27.008Z"
   },
   {
    "duration": 2,
    "start_time": "2021-11-18T06:35:34.288Z"
   },
   {
    "duration": 2,
    "start_time": "2021-11-18T06:38:04.527Z"
   }
  ],
  "colab": {
   "provenance": []
  },
  "kernelspec": {
   "display_name": "Python [conda env:base] *",
   "language": "python",
   "name": "conda-base-py"
  },
  "language_info": {
   "codemirror_mode": {
    "name": "ipython",
    "version": 3
   },
   "file_extension": ".py",
   "mimetype": "text/x-python",
   "name": "python",
   "nbconvert_exporter": "python",
   "pygments_lexer": "ipython3",
   "version": "3.12.7"
  },
  "toc": {
   "base_numbering": 1,
   "nav_menu": {},
   "number_sections": true,
   "sideBar": true,
   "skip_h1_title": false,
   "title_cell": "Table of Contents",
   "title_sidebar": "Contents",
   "toc_cell": false,
   "toc_position": {},
   "toc_section_display": true,
   "toc_window_display": true
  }
 },
 "nbformat": 4,
 "nbformat_minor": 4
}
